{
 "cells": [
  {
   "cell_type": "markdown",
   "metadata": {},
   "source": [
    "## Proyecto Final Métodos Analíticos\n",
    "### Francisco Bahena, Cristian Challu, Daniel Sharp\n",
    "\n",
    "Carga de librerías"
   ]
  },
  {
   "cell_type": "code",
   "execution_count": 1,
   "metadata": {},
   "outputs": [],
   "source": [
    "import numpy as np\n",
    "import matplotlib.mlab as mlab\n",
    "import matplotlib.pyplot as plt\n",
    "import sys\n",
    "import time\n",
    "from IPython.display import clear_output\n",
    "from io import StringIO"
   ]
  },
  {
   "cell_type": "markdown",
   "metadata": {},
   "source": [
    "Carga de los datos y presentación:"
   ]
  },
  {
   "cell_type": "code",
   "execution_count": 2,
   "metadata": {},
   "outputs": [],
   "source": [
    "import requests\n",
    "import pandas as pd\n",
    "flujo = pd.read_csv('flujo1.csv',header=None)\n",
    "flujo.columns = ['nodo','mac','pot','fecha']"
   ]
  },
  {
   "cell_type": "markdown",
   "metadata": {},
   "source": [
    "Nuestros datos consisten de un log de conexiones a nodos de 3 centros comerciales. Entre los 3 centros tenemos 32 nodos 'wifi' a los que intentan conectarse dispositivos de los individuos que transitan cerca o dentro de los centros comerciales. En los datos contamos con 4 columnas, son:  \n",
    "- MAC address del Nodo de Wifi\n",
    "- MAC address del dispositivo\n",
    "- Potencia de la conexión\n",
    "- Timestamp de la conexión"
   ]
  },
  {
   "cell_type": "code",
   "execution_count": null,
   "metadata": {},
   "outputs": [],
   "source": [
    "flujo.head()"
   ]
  },
  {
   "cell_type": "code",
   "execution_count": 3,
   "metadata": {},
   "outputs": [],
   "source": [
    "flujo['fecha'] = pd.to_datetime(flujo['fecha'], format = '%Y-%m-%d %H:%M:%S')\n",
    "flujo['day'] = flujo['fecha'].apply(lambda x: x.day)\n",
    "flujo['hour'] = flujo['fecha'].apply(lambda x: x.hour)\n",
    "flujo['minute'] = flujo['fecha'].apply(lambda x: x.minute)"
   ]
  },
  {
   "cell_type": "markdown",
   "metadata": {},
   "source": [
    "Limpiamos nuestros datos y creamos variables para día, hora y minuto de tal forma que sea más sencillo filtrar y trabajar con los datos."
   ]
  },
  {
   "cell_type": "code",
   "execution_count": null,
   "metadata": {},
   "outputs": [],
   "source": [
    "flujo_f = flujo.loc[(flujo['day'] == 16 )& (flujo['hour'] == 8)]"
   ]
  },
  {
   "cell_type": "code",
   "execution_count": null,
   "metadata": {},
   "outputs": [],
   "source": [
    "flujo_f.shape"
   ]
  },
  {
   "cell_type": "markdown",
   "metadata": {},
   "source": [
    "### Ejecución del Bloom filter  \n",
    "Para la ejecución del bloom se 'levantó' un API en un servidor con nuestra implementación del Bloom Filter. Para simular el stream de nuestros datos, enviamos las observaciones al API en bloques de un minuto y obtenemos el número de 'nuevos' dispositivos contados por el Filtro de Bloom al igual que el número de dispositivos que ya existían. Hacemos lo mismo con una base de datos para obtener los valores reales. También obtenemos el tiempo de ejecución tanto para nuestro Filtro de Bloom como de la base de datos.  \n",
    "  \n",
    "Con el siguiente comando reestablecemos la base y el Filtro de Bloom. Además, enviamos parámetros para la construcción del Filtro, como en número de hashes y el tamaño del vector filtro."
   ]
  },
  {
   "cell_type": "code",
   "execution_count": null,
   "metadata": {},
   "outputs": [],
   "source": [
    "requests.get('http://184.72.111.50:3000/limpia_db_bloom/20/1042043')"
   ]
  },
  {
   "cell_type": "markdown",
   "metadata": {},
   "source": [
    "A continuación 'simulamos' el stream de datos, enviando las observaciones en bloques de un minuto por un tiempo total de 10 horas."
   ]
  },
  {
   "cell_type": "code",
   "execution_count": null,
   "metadata": {},
   "outputs": [],
   "source": [
    "ultimo = 99\n",
    "history = np.empty((0,5),float)\n",
    "num_unicos = 0\n",
    "hora = 8\n",
    "hora_fin = 18\n",
    "plt.close()\n",
    "while hora < hora_fin:\n",
    "    actual = time.localtime().tm_min\n",
    "    contador = -1\n",
    "    flujo_f = flujo.loc[(flujo['day'] == 16 )& (flujo['hour'] == hora)]\n",
    "    hora = hora+1\n",
    "    # Iteramos en cada minuto\n",
    "    for minuto in range(60):\n",
    "        contador += 1\n",
    "        print(\"Hora: {} Minuto: {}\".format(hora-1, minuto))\n",
    "        base = flujo_f.loc[flujo_f['minute'] == minuto]\n",
    "        base = base[['mac']].values.tolist()\n",
    "        elementos = ['-'.join(elemento) for elemento in base]\n",
    "        ultimo = actual\n",
    "        # Llamamos al API y enviamos los elementos del minuto actual al Bloom Filter\n",
    "        r_bloom = requests.post('http://184.72.111.50:3000/insert_elements_bloom/', json= {'records':elementos})\n",
    "        #r_bloom = requests.post('http://localhost:5000/insert_elements_bloom/', json= {'records':elementos})\n",
    "        elapsed_bloom = float(r_bloom.json()['tiempo_en_segundos'])\n",
    "        # Llamamos al API y enviamos los elementos del minuto actual a la Base de Datos\n",
    "        r_db = requests.post('http://184.72.111.50:3000/insert_elements_db/', json= {'records':elementos})\n",
    "        #r_db = requests.post('http://localhost:5000/insert_elements_db/', json= {'records':elementos})\n",
    "        elapsed_db = float(r_db.json()['tiempo_en_segundos'])\n",
    "        tasa_error = r_db.json()['nuevas_visitas_base'] - r_bloom.json()['nuevas_visitas']\n",
    "        num_unicos += r_bloom.json()['nuevas_visitas']\n",
    "        \n",
    "        step = [contador, elapsed_bloom, elapsed_db, tasa_error, num_unicos]\n",
    "        history = np.vstack((history, step))\n",
    "        \n",
    "        # Graficamos nuestros resultados para las diferentes métricas consideradas\n",
    "        clear_output()\n",
    "        print(r_bloom.json())\n",
    "        print(r_db.json())\n",
    "        plt.figure(1)\n",
    "        plt.figure(figsize = (15, 5))\n",
    "        plt.subplot(131)\n",
    "        plt.plot(history[:,1], label = \"Bloom\", linestyle = '-')\n",
    "        plt.plot(history[:,2], label = \"DataBase\", linestyle = '--')\n",
    "        plt.legend()\n",
    "        plt.xlabel(\"Minutos\")\n",
    "        plt.ylabel(\"Tiempo de ejecución\")\n",
    "        plt.title(\"Tiempos ejecución\")\n",
    "        plt.xlim((1,600))\n",
    "        plt.subplot(132)\n",
    "        plt.plot(history[:,3], linestyle = '-')\n",
    "        plt.ylabel(\"Tasa error\")\n",
    "        plt.xlabel(\"Minutos\")\n",
    "        plt.title(\"Tasa de error\")\n",
    "        plt.xlim((1,600))\n",
    "        plt.subplot(133)\n",
    "        plt.plot(history[:,4], linestyle = '-')\n",
    "        plt.ylabel(\"Número de únicos\")\n",
    "        plt.xlabel(\"Minutos\")\n",
    "        plt.title(\"Número de únicos\")\n",
    "        plt.xlim((1,600))\n",
    "        plt.show()\n",
    "    #time.sleep(1)\n",
    "    #print(time.localtime())"
   ]
  },
  {
   "cell_type": "markdown",
   "metadata": {},
   "source": [
    "El Bloom Filter nos permite ver el número de individuos únicos en cierto periodo de tiempo al igual que detectar, en un periodo de un minuto de tiempo, cuantos de los dispositivos son nuevos y cuantos ya habían aparecido en alguno de los 3 centros comerciales."
   ]
  },
  {
   "cell_type": "markdown",
   "metadata": {},
   "source": [
    "### Hyperloglog\n"
   ]
  },
  {
   "cell_type": "code",
   "execution_count": 17,
   "metadata": {},
   "outputs": [],
   "source": [
    "test = flujo.mac.values.tolist()"
   ]
  },
  {
   "cell_type": "code",
   "execution_count": 23,
   "metadata": {},
   "outputs": [
    {
     "data": {
      "text/plain": [
       "<Response [200]>"
      ]
     },
     "execution_count": 23,
     "metadata": {},
     "output_type": "execute_result"
    }
   ],
   "source": [
    "requests.get('http://localhost:5000/limpia_hloglog/20')"
   ]
  },
  {
   "cell_type": "code",
   "execution_count": 24,
   "metadata": {},
   "outputs": [],
   "source": [
    "r_hll = requests.post('http://localhost:5000/check_unique/', json= {'records':test})"
   ]
  },
  {
   "cell_type": "code",
   "execution_count": 25,
   "metadata": {},
   "outputs": [
    {
     "data": {
      "text/plain": [
       "{'unicas hloglog': 525821.8441022076, 'unicas_base': 611162}"
      ]
     },
     "execution_count": 25,
     "metadata": {},
     "output_type": "execute_result"
    }
   ],
   "source": [
    "r_hll.json()"
   ]
  },
  {
   "cell_type": "code",
   "execution_count": null,
   "metadata": {},
   "outputs": [],
   "source": []
  }
 ],
 "metadata": {
  "kernelspec": {
   "display_name": "Python 3",
   "language": "python",
   "name": "python3"
  },
  "language_info": {
   "codemirror_mode": {
    "name": "ipython",
    "version": 3
   },
   "file_extension": ".py",
   "mimetype": "text/x-python",
   "name": "python",
   "nbconvert_exporter": "python",
   "pygments_lexer": "ipython3",
   "version": "3.5.2"
  }
 },
 "nbformat": 4,
 "nbformat_minor": 2
}
