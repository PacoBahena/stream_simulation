{
 "cells": [
  {
   "cell_type": "markdown",
   "metadata": {},
   "source": [
    "## Proyecto Final Métodos Analíticos\n",
    "### Francisco Bahena, Cristian Challu, Daniel Sharp\n",
    "\n",
    "Carga de librerías"
   ]
  },
  {
   "cell_type": "code",
   "execution_count": 1,
   "metadata": {},
   "outputs": [],
   "source": [
    "import numpy as np\n",
    "import matplotlib.mlab as mlab\n",
    "import matplotlib.pyplot as plt\n",
    "import sys\n",
    "import time\n",
    "from IPython.display import clear_output\n",
    "from io import StringIO"
   ]
  },
  {
   "cell_type": "markdown",
   "metadata": {},
   "source": [
    "Carga de los datos y presentación:"
   ]
  },
  {
   "cell_type": "code",
   "execution_count": 2,
   "metadata": {},
   "outputs": [],
   "source": [
    "import requests\n",
    "import pandas as pd\n",
    "\n",
    "flujo = pd.read_csv('flujo_malls.csv')\n",
    "flujo = flujo.iloc[:,1:]"
   ]
  },
  {
   "cell_type": "markdown",
   "metadata": {},
   "source": [
    "Nuestros datos consisten de un log de conexiones a nodos de 3 centros comerciales. Entre los 3 centros tenemos 32 nodos 'wifi' a los que intentan conectarse dispositivos de los individuos que transitan cerca o dentro de los centros comerciales. En los datos contamos con 4 columnas, son:  \n",
    "- MAC address del Nodo de Wifi\n",
    "- MAC address del dispositivo\n",
    "- Potencia de la conexión\n",
    "- Timestamp de la conexión"
   ]
  },
  {
   "cell_type": "code",
   "execution_count": 3,
   "metadata": {},
   "outputs": [
    {
     "data": {
      "text/html": [
       "<div>\n",
       "<style scoped>\n",
       "    .dataframe tbody tr th:only-of-type {\n",
       "        vertical-align: middle;\n",
       "    }\n",
       "\n",
       "    .dataframe tbody tr th {\n",
       "        vertical-align: top;\n",
       "    }\n",
       "\n",
       "    .dataframe thead th {\n",
       "        text-align: right;\n",
       "    }\n",
       "</style>\n",
       "<table border=\"1\" class=\"dataframe\">\n",
       "  <thead>\n",
       "    <tr style=\"text-align: right;\">\n",
       "      <th></th>\n",
       "      <th>nodo</th>\n",
       "      <th>mac_x</th>\n",
       "      <th>pot</th>\n",
       "      <th>fecha</th>\n",
       "      <th>name</th>\n",
       "    </tr>\n",
       "  </thead>\n",
       "  <tbody>\n",
       "    <tr>\n",
       "      <th>0</th>\n",
       "      <td>e4956e43855b</td>\n",
       "      <td>90:97:f3:60:0a:0c</td>\n",
       "      <td>-77</td>\n",
       "      <td>2018-04-16 02:59:36</td>\n",
       "      <td>Hera Mall</td>\n",
       "    </tr>\n",
       "    <tr>\n",
       "      <th>1</th>\n",
       "      <td>e4956e43855b</td>\n",
       "      <td>c8:3a:35:c1:2a:4c</td>\n",
       "      <td>-72</td>\n",
       "      <td>2018-04-16 03:00:03</td>\n",
       "      <td>Hera Mall</td>\n",
       "    </tr>\n",
       "    <tr>\n",
       "      <th>2</th>\n",
       "      <td>e4956e43855b</td>\n",
       "      <td>c8:3a:35:c1:2a:4c</td>\n",
       "      <td>-63</td>\n",
       "      <td>2018-04-16 03:02:09</td>\n",
       "      <td>Hera Mall</td>\n",
       "    </tr>\n",
       "    <tr>\n",
       "      <th>3</th>\n",
       "      <td>e4956e43855b</td>\n",
       "      <td>c8:3a:35:c1:2b:c3</td>\n",
       "      <td>-82</td>\n",
       "      <td>2018-04-16 03:04:28</td>\n",
       "      <td>Hera Mall</td>\n",
       "    </tr>\n",
       "    <tr>\n",
       "      <th>4</th>\n",
       "      <td>e4956e43855b</td>\n",
       "      <td>c8:3a:35:c1:2a:4c</td>\n",
       "      <td>-76</td>\n",
       "      <td>2018-04-16 03:05:44</td>\n",
       "      <td>Hera Mall</td>\n",
       "    </tr>\n",
       "  </tbody>\n",
       "</table>\n",
       "</div>"
      ],
      "text/plain": [
       "           nodo              mac_x  pot                fecha       name\n",
       "0  e4956e43855b  90:97:f3:60:0a:0c  -77  2018-04-16 02:59:36  Hera Mall\n",
       "1  e4956e43855b  c8:3a:35:c1:2a:4c  -72  2018-04-16 03:00:03  Hera Mall\n",
       "2  e4956e43855b  c8:3a:35:c1:2a:4c  -63  2018-04-16 03:02:09  Hera Mall\n",
       "3  e4956e43855b  c8:3a:35:c1:2b:c3  -82  2018-04-16 03:04:28  Hera Mall\n",
       "4  e4956e43855b  c8:3a:35:c1:2a:4c  -76  2018-04-16 03:05:44  Hera Mall"
      ]
     },
     "execution_count": 3,
     "metadata": {},
     "output_type": "execute_result"
    }
   ],
   "source": [
    "flujo.head()"
   ]
  },
  {
   "cell_type": "code",
   "execution_count": 4,
   "metadata": {},
   "outputs": [],
   "source": [
    "flujo['fecha'] = pd.to_datetime(flujo['fecha'], format = '%Y-%m-%d %H:%M:%S')\n",
    "flujo['day'] = flujo['fecha'].apply(lambda x: x.day)\n",
    "flujo['hour'] = flujo['fecha'].apply(lambda x: x.hour)\n",
    "flujo['minute'] = flujo['fecha'].apply(lambda x: x.minute)"
   ]
  },
  {
   "cell_type": "markdown",
   "metadata": {},
   "source": [
    "Limpiamos nuestros datos y creamos variables para día, hora y minuto de tal forma que sea más sencillo filtrar y trabajar con los datos."
   ]
  },
  {
   "cell_type": "code",
   "execution_count": 23,
   "metadata": {},
   "outputs": [],
   "source": [
    "flujo_f = flujo.loc[(flujo['day'] == 17 ) & (flujo['hour'] == 8) & (flujo['pot'] >= -70)]"
   ]
  },
  {
   "cell_type": "code",
   "execution_count": 24,
   "metadata": {},
   "outputs": [
    {
     "data": {
      "text/plain": [
       "(26957, 8)"
      ]
     },
     "execution_count": 24,
     "metadata": {},
     "output_type": "execute_result"
    }
   ],
   "source": [
    "flujo_f.shape"
   ]
  },
  {
   "cell_type": "markdown",
   "metadata": {},
   "source": [
    "### Ejecución del Bloom filter para dispositivos unicos\n",
    "Para la ejecución del bloom se 'levantó' un API en un servidor con nuestra implementación del Bloom Filter. Para simular el stream de nuestros datos, enviamos las observaciones al API en bloques de un minuto y obtenemos el número de 'nuevos' dispositivos contados por el Filtro de Bloom al igual que el número de dispositivos que ya existían. Hacemos lo mismo con una base de datos para obtener los valores reales. Se reporta el error teórico esperado y el error real. También obtenemos el tiempo de ejecución tanto para nuestro Filtro de Bloom como de la base de datos.\n",
    " "
   ]
  },
  {
   "cell_type": "markdown",
   "metadata": {},
   "source": [
    "Con el siguiente comando reestablecemos la base y el Filtro de Bloom. Además, enviamos parámetros para la construcción del Filtro, como en número de hashes y el tamaño del vector filtro."
   ]
  },
  {
   "cell_type": "code",
   "execution_count": 40,
   "metadata": {},
   "outputs": [],
   "source": [
    "n = 81203\n",
    "k = 10"
   ]
  },
  {
   "cell_type": "code",
   "execution_count": 41,
   "metadata": {},
   "outputs": [
    {
     "data": {
      "text/plain": [
       "<Response [200]>"
      ]
     },
     "execution_count": 41,
     "metadata": {},
     "output_type": "execute_result"
    }
   ],
   "source": [
    "requests.get('http://54.157.13.52:3000/limpia_db_bloom/'+str(k)+'/'+str(n))"
   ]
  },
  {
   "cell_type": "markdown",
   "metadata": {},
   "source": [
    "A continuación 'simulamos' el stream de datos, enviando las observaciones en bloques de un minuto por un tiempo total de 10 horas."
   ]
  },
  {
   "cell_type": "code",
   "execution_count": 42,
   "metadata": {},
   "outputs": [
    {
     "name": "stdout",
     "output_type": "stream",
     "text": [
      "{'visitas_existentes': 250, 'tiempo_en_segundos': '0.019130468368530273', 'nuevas_visitas': 7}\n",
      "{'visitas_existentes_base': 241, 'tiempo_en_segundos': '0.39720630645751953', 'nuevas_visitas_base': 16}\n"
     ]
    },
    {
     "data": {
      "text/plain": [
       "<matplotlib.figure.Figure at 0x7f113110db70>"
      ]
     },
     "metadata": {},
     "output_type": "display_data"
    },
    {
     "data": {
      "image/png": "[encoded data removed]",
      "text/plain": [
       "<matplotlib.figure.Figure at 0x7f11307965f8>"
      ]
     },
     "metadata": {},
     "output_type": "display_data"
    }
   ],
   "source": [
    "# Hora de inicio y fin de simulacion\n",
    "hora = 8\n",
    "hora_fin = 18\n",
    "\n",
    "# Vector numpy con estadisticas\n",
    "history = np.empty((0,7),float)\n",
    "num_unicos_bloom = 0\n",
    "num_unicos_db = 0\n",
    "plt.close()\n",
    "\n",
    "while hora < hora_fin:\n",
    "    # Contador de minuto\n",
    "    contador = -1\n",
    "    # Hora actual\n",
    "    hora = hora+1\n",
    "    # Se filtra la base para obtener solo la hora considerada\n",
    "    flujo_f = flujo.loc[(flujo['day'] == 17 )& (flujo['hour'] == hora) & (flujo['pot'] >= -70)] \n",
    "    \n",
    "    # Iteramos en cada minuto de cada hora\n",
    "    for minuto in range(60):\n",
    "        # Contador con minuto considerado\n",
    "        contador += 1\n",
    "        print(\"Hora: {} Minuto: {}\".format(hora-1, minuto))\n",
    "        \n",
    "        # Se filtra la base para obtener solo el minuto considerado\n",
    "        base = flujo_f.loc[flujo_f['minute'] == minuto]\n",
    "        base = base[['mac_x']].values.tolist()\n",
    "        elementos = ['-'.join(elemento) for elemento in base]\n",
    "        \n",
    "        # Request al API para numero total de elementos en filtro\n",
    "        r = requests.get('http://54.157.13.52:3000/check_bloom_db/')\n",
    "        num_unicos_total = r.json()['elementos_insertados_en_bloom']\n",
    "        \n",
    "        # Tasa de error teorica\n",
    "        tasa_teorica = 100*(1-(1-1/n)**(num_unicos_total*k))**k\n",
    "        \n",
    "        # Llamamos al API y enviamos los elementos del minuto actual al Bloom Filter\n",
    "        r_bloom = requests.post('http://54.157.13.52:3000/insert_elements_bloom/', json= {'records':elementos})\n",
    "        elapsed_bloom = float(r_bloom.json()['tiempo_en_segundos'])\n",
    "        # Llamamos al API y enviamos los elementos del minuto actual a la Base de Datos\n",
    "        r_db = requests.post('http://54.157.13.52:3000/insert_elements_db/', json= {'records':elementos})\n",
    "        elapsed_db = float(r_db.json()['tiempo_en_segundos'])\n",
    "        \n",
    "        # Tasa de error real\n",
    "        if r_db.json()['nuevas_visitas_base'] > 0:\n",
    "            tasa_error = 100*(1- r_bloom.json()['nuevas_visitas']/r_db.json()['nuevas_visitas_base'])\n",
    "        else:\n",
    "            tasa_error = 0\n",
    "        \n",
    "        # Numero de elementos unicos de este flujo\n",
    "        num_unicos_bloom += r_bloom.json()['nuevas_visitas']\n",
    "        num_unicos_db += r_db.json()['nuevas_visitas_base']\n",
    "        \n",
    "        # Se guardan estadisticas en historia\n",
    "        step = [contador, elapsed_bloom, elapsed_db, tasa_error, tasa_teorica, num_unicos_bloom, num_unicos_db]\n",
    "        history = np.vstack((history, step))\n",
    "        \n",
    "        # Graficamos nuestros resultados para las diferentes métricas consideradas\n",
    "        clear_output()\n",
    "        print(r_bloom.json())\n",
    "        print(r_db.json())\n",
    "        plt.figure(1)\n",
    "        plt.figure(figsize = (15, 5))\n",
    "        plt.subplot(131)\n",
    "        plt.plot(history[:,1], label = \"Bloom\", linestyle = '-')\n",
    "        plt.plot(history[:,2], label = \"DataBase\", linestyle = '--')\n",
    "        plt.legend()\n",
    "        plt.xlabel(\"Minutos\")\n",
    "        plt.ylabel(\"Tiempo de ejecución\")\n",
    "        plt.title(\"Tiempos ejecución\")\n",
    "        plt.xlim((1,600))\n",
    "        plt.subplot(132)\n",
    "        plt.plot(history[:,3], linestyle = '-', label = \"Real\")\n",
    "        plt.plot(history[:,4], linestyle = '--', label = \"Teorica\")\n",
    "        plt.ylim((0, 105))\n",
    "        plt.legend()\n",
    "        plt.ylabel(\"Tasa error\")\n",
    "        plt.xlabel(\"Minutos\")\n",
    "        plt.title(\"Tasa de error\")\n",
    "        plt.xlim((1,600))\n",
    "        plt.subplot(133)\n",
    "        plt.plot(history[:,5], label = \"Bloom\", linestyle = '-')\n",
    "        plt.plot(history[:,6], label = \"DataBase\", linestyle = '--')\n",
    "        plt.legend()\n",
    "        plt.ylabel(\"Número de únicos\")\n",
    "        plt.xlabel(\"Minutos\")\n",
    "        plt.title(\"Número de únicos\")\n",
    "        plt.xlim((1,600))\n",
    "        plt.show()"
   ]
  },
  {
   "cell_type": "markdown",
   "metadata": {},
   "source": [
    "El Bloom Filter nos permite ver el número de individuos únicos en cierto periodo de tiempo al igual que detectar, en un periodo de un minuto de tiempo, cuantos de los dispositivos son nuevos y cuantos ya habían aparecido en alguno de los 3 centros comerciales."
   ]
  },
  {
   "cell_type": "markdown",
   "metadata": {},
   "source": [
    "### Ejecución del Bloom filter para filtrar empleados\n",
    "Para esta implementación del Bloom filter primero añadimos un subconjunto de MAC address distintas al filtro, que simulan los dispositivos de los empleados de las tiendas del centro comercial. Obtenemos el número de dispositivos filtrados y no filtrados por el Filtro de Bloom. Hacemos lo mismo con una base de datos para obtener los valores reales. Se reporta el error teórico esperado y el error real. También obtenemos el tiempo de ejecución tanto para nuestro Filtro de Bloom como de la base de datos."
   ]
  },
  {
   "cell_type": "markdown",
   "metadata": {},
   "source": [
    "Primero se crea una base de direcciones que representan a los empleados del centro comercial. Luego se agregan los registros al bloom filter."
   ]
  },
  {
   "cell_type": "code",
   "execution_count": 43,
   "metadata": {},
   "outputs": [],
   "source": [
    "empleados = flujo.sample(frac=0.1, replace=False)\n",
    "base = empleados[['mac_x']].values.tolist()\n",
    "elementos = ['-'.join(elemento) for elemento in base]"
   ]
  },
  {
   "cell_type": "code",
   "execution_count": 44,
   "metadata": {},
   "outputs": [],
   "source": [
    "n = 16253\n",
    "k = 10"
   ]
  },
  {
   "cell_type": "code",
   "execution_count": 45,
   "metadata": {},
   "outputs": [
    {
     "data": {
      "text/plain": [
       "<Response [200]>"
      ]
     },
     "execution_count": 45,
     "metadata": {},
     "output_type": "execute_result"
    }
   ],
   "source": [
    "requests.get('http://54.157.13.52:3000/limpia_db_bloom/'+str(k)+'/'+str(n))"
   ]
  },
  {
   "cell_type": "code",
   "execution_count": 46,
   "metadata": {},
   "outputs": [],
   "source": [
    "r_bloom = requests.post('http://54.157.13.52:3000/insert_elements_bloom/', json= {'records':elementos})"
   ]
  },
  {
   "cell_type": "code",
   "execution_count": 30,
   "metadata": {},
   "outputs": [],
   "source": [
    "# Hora de inicio y fin de simulacion\n",
    "hora = 5\n",
    "hora_fin = 10\n",
    "\n",
    "# Vector numpy con estadisticas\n",
    "history = np.empty((0,7),float)\n",
    "num_filtrados_bloom = 0\n",
    "num_filstrados_db = 0\n",
    "plt.close()\n",
    "\n",
    "while hora < hora_fin:\n",
    "    # Contador de minuto\n",
    "    contador = -1\n",
    "    # Hora actual\n",
    "    hora = hora+1\n",
    "    # Se filtra la base para obtener solo la hora considerada\n",
    "    flujo_f = flujo.loc[(flujo['day'] == 18 )& (flujo['hour'] == hora) & (flujo['pot'] >= -70)] \n",
    "    \n",
    "    # Iteramos en cada minuto de cada hora\n",
    "    for minuto in range(60):\n",
    "        # Contador con minuto considerado\n",
    "        contador += 1\n",
    "        print(\"Hora: {} Minuto: {}\".format(hora-1, minuto))\n",
    "        \n",
    "        # Se filtra la base para obtener solo el minuto considerado\n",
    "        base = flujo_f.loc[flujo_f['minute'] == minuto]\n",
    "        base = base[['mac_x']].values.tolist()\n",
    "        elementos = ['-'.join(elemento) for elemento in base]\n",
    "        \n",
    "        # Request al API para numero total de elementos en filtro\n",
    "        r = requests.get('http://54.157.13.52:3000/check_bloom_db/')\n",
    "        num_unicos_total = r.json()['elementos_insertados_en_bloom']\n",
    "        \n",
    "        # Tasa de error teorica\n",
    "        tasa_teorica = 100*(1-(1-1/n)**(num_unicos_total*k))**k\n",
    "        \n",
    "        # Llamamos al API y enviamos los elementos del minuto actual al Bloom Filter\n",
    "        r_bloom = requests.post('http://54.157.13.52:3000/is_in_filter/', json= {'records':elementos})\n",
    "        elapsed_bloom = float(r_bloom.json()['tiempo_en_segundos'])\n",
    "        # Llamamos al API y enviamos los elementos del minuto actual a la Base de Datos\n",
    "        r_db = requests.post('http://54.157.13.52:3000/is_in_db/', json= {'records':elementos})\n",
    "        elapsed_db = float(r_db.json()['tiempo_en_segundos'])\n",
    "        \n",
    "        # Tasa de error real\n",
    "        if r_db.json()['nuevas_visitas_base'] > 0:\n",
    "            tasa_error = 100*(1- r_bloom.json()['nuevas_visitas']/r_db.json()['nuevas_visitas_base'])\n",
    "        else:\n",
    "            tasa_error = 0\n",
    "        \n",
    "        # Numero de elementos unicos de este flujo\n",
    "        num_filtrados_bloom += r_bloom.json()['visitas_existentes']\n",
    "        num_filtrados_db += r_db.json()['visitas_existentes_base']\n",
    "        \n",
    "        # Se guardan estadisticas en historia\n",
    "        step = [contador, elapsed_bloom, elapsed_db, tasa_error, tasa_teorica, num_filtrados_bloom, num_filtrados_db]\n",
    "        history = np.vstack((history, step))\n",
    "        \n",
    "        # Graficamos nuestros resultados para las diferentes métricas consideradas\n",
    "        clear_output()\n",
    "        print(r_bloom.json())\n",
    "        print(r_db.json())\n",
    "        plt.figure(1)\n",
    "        plt.figure(figsize = (15, 5))\n",
    "        plt.subplot(131)\n",
    "        plt.plot(history[:,1], label = \"Bloom\", linestyle = '-')\n",
    "        plt.plot(history[:,2], label = \"DataBase\", linestyle = '--')\n",
    "        plt.legend()\n",
    "        plt.xlabel(\"Minutos\")\n",
    "        plt.ylabel(\"Tiempo de ejecución\")\n",
    "        plt.title(\"Tiempos ejecución\")\n",
    "        plt.xlim((1,600))\n",
    "        plt.subplot(132)\n",
    "        plt.plot(history[:,3], linestyle = '-', label = \"Real\")\n",
    "        plt.plot(history[:,4], linestyle = '--', label = \"Teorica\")\n",
    "        plt.ylim((0, 105))\n",
    "        plt.legend()\n",
    "        plt.ylabel(\"Tasa error\")\n",
    "        plt.xlabel(\"Minutos\")\n",
    "        plt.title(\"Tasa de error\")\n",
    "        plt.xlim((1,600))\n",
    "        plt.subplot(133)\n",
    "        plt.plot(history[:,5], label = \"Bloom\", linestyle = '-')\n",
    "        plt.plot(history[:,6], label = \"DataBase\", linestyle = '--')\n",
    "        plt.legend()\n",
    "        plt.ylabel(\"Número de únicos\")\n",
    "        plt.xlabel(\"Minutos\")\n",
    "        plt.title(\"Número de únicos\")\n",
    "        plt.xlim((1,600))\n",
    "        plt.show()"
   ]
  },
  {
   "cell_type": "markdown",
   "metadata": {},
   "source": [
    "### Hyperloglog"
   ]
  },
  {
   "cell_type": "code",
   "execution_count": null,
   "metadata": {},
   "outputs": [],
   "source": [
    "test = flujo.mac.values.tolist()"
   ]
  },
  {
   "cell_type": "code",
   "execution_count": null,
   "metadata": {},
   "outputs": [],
   "source": [
    "requests.get('http://localhost:5000/limpia_hloglog/20')"
   ]
  },
  {
   "cell_type": "code",
   "execution_count": null,
   "metadata": {},
   "outputs": [],
   "source": [
    "r_hll = requests.post('http://localhost:5000/check_unique/', json= {'records':test})"
   ]
  },
  {
   "cell_type": "code",
   "execution_count": null,
   "metadata": {},
   "outputs": [],
   "source": [
    "r_hll.json()"
   ]
  },
  {
   "cell_type": "code",
   "execution_count": null,
   "metadata": {},
   "outputs": [],
   "source": []
  }
 ],
 "metadata": {
  "kernelspec": {
   "display_name": "Python 3",
   "language": "python",
   "name": "python3"
  },
  "language_info": {
   "codemirror_mode": {
    "name": "ipython",
    "version": 3
   },
   "file_extension": ".py",
   "mimetype": "text/x-python",
   "name": "python",
   "nbconvert_exporter": "python",
   "pygments_lexer": "ipython3",
   "version": "3.6.4"
  }
 },
 "nbformat": 4,
 "nbformat_minor": 2
}
