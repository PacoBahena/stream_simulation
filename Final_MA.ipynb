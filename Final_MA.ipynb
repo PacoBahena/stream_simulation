{
 "cells": [
  {
   "cell_type": "markdown",
   "metadata": {},
   "source": [
    "## Proyecto Final Métodos Analíticos\n",
    "### Francisco Bahena, Cristian Challu, Daniel Sharp\n",
    "\n",
    "Carga de librerías"
   ]
  },
  {
   "cell_type": "code",
   "execution_count": 1,
   "metadata": {},
   "outputs": [],
   "source": [
    "import numpy as np\n",
    "import matplotlib.mlab as mlab\n",
    "import matplotlib.pyplot as plt\n",
    "import sys\n",
    "import time\n",
    "from IPython.display import clear_output\n",
    "from io import StringIO\n",
    "import random"
   ]
  },
  {
   "cell_type": "markdown",
   "metadata": {},
   "source": [
    "Carga de los datos y presentación:"
   ]
  },
  {
   "cell_type": "code",
   "execution_count": 2,
   "metadata": {},
   "outputs": [],
   "source": [
    "import requests\n",
    "import pandas as pd\n",
    "\n",
    "flujo = pd.read_csv('flujo_daniel.csv')\n",
    "flujo = flujo.iloc[:,1:]"
   ]
  },
  {
   "cell_type": "markdown",
   "metadata": {},
   "source": [
    "Nuestros datos consisten de un log de conexiones a nodos de 3 centros comerciales. Entre los 3 centros tenemos 32 nodos 'wifi' a los que intentan conectarse dispositivos de los individuos que transitan cerca o dentro de los centros comerciales. En los datos contamos con 4 columnas, son:  \n",
    "- MAC address del Nodo de Wifi\n",
    "- MAC address del dispositivo\n",
    "- Potencia de la conexión\n",
    "- Timestamp de la conexión\n",
    "- Nombre del Mall al que pertenece la observación"
   ]
  },
  {
   "cell_type": "code",
   "execution_count": 3,
   "metadata": {},
   "outputs": [
    {
     "data": {
      "text/html": [
       "<div>\n",
       "<style scoped>\n",
       "    .dataframe tbody tr th:only-of-type {\n",
       "        vertical-align: middle;\n",
       "    }\n",
       "\n",
       "    .dataframe tbody tr th {\n",
       "        vertical-align: top;\n",
       "    }\n",
       "\n",
       "    .dataframe thead th {\n",
       "        text-align: right;\n",
       "    }\n",
       "</style>\n",
       "<table border=\"1\" class=\"dataframe\">\n",
       "  <thead>\n",
       "    <tr style=\"text-align: right;\">\n",
       "      <th></th>\n",
       "      <th>nodo</th>\n",
       "      <th>mac_x</th>\n",
       "      <th>pot</th>\n",
       "      <th>fecha</th>\n",
       "      <th>name</th>\n",
       "    </tr>\n",
       "  </thead>\n",
       "  <tbody>\n",
       "    <tr>\n",
       "      <th>0</th>\n",
       "      <td>e4956e438a4b</td>\n",
       "      <td>c8:3a:35:c2:4e:96</td>\n",
       "      <td>-77</td>\n",
       "      <td>2018-04-16 02:55:08</td>\n",
       "      <td>Andalus Mall</td>\n",
       "    </tr>\n",
       "    <tr>\n",
       "      <th>1</th>\n",
       "      <td>e4956e438a4b</td>\n",
       "      <td>c8:3a:35:c8:04:26</td>\n",
       "      <td>-78</td>\n",
       "      <td>2018-04-16 02:55:47</td>\n",
       "      <td>Andalus Mall</td>\n",
       "    </tr>\n",
       "    <tr>\n",
       "      <th>2</th>\n",
       "      <td>e4956e438a4b</td>\n",
       "      <td>c8:3a:35:c2:4e:96</td>\n",
       "      <td>-70</td>\n",
       "      <td>2018-04-16 02:55:59</td>\n",
       "      <td>Andalus Mall</td>\n",
       "    </tr>\n",
       "    <tr>\n",
       "      <th>3</th>\n",
       "      <td>e4956e438a4b</td>\n",
       "      <td>c8:3a:35:c8:04:26</td>\n",
       "      <td>-81</td>\n",
       "      <td>2018-04-16 03:02:58</td>\n",
       "      <td>Andalus Mall</td>\n",
       "    </tr>\n",
       "    <tr>\n",
       "      <th>4</th>\n",
       "      <td>e4956e438a4b</td>\n",
       "      <td>c8:3a:35:c2:4e:96</td>\n",
       "      <td>-71</td>\n",
       "      <td>2018-04-16 03:04:25</td>\n",
       "      <td>Andalus Mall</td>\n",
       "    </tr>\n",
       "  </tbody>\n",
       "</table>\n",
       "</div>"
      ],
      "text/plain": [
       "           nodo              mac_x  pot                fecha          name\n",
       "0  e4956e438a4b  c8:3a:35:c2:4e:96  -77  2018-04-16 02:55:08  Andalus Mall\n",
       "1  e4956e438a4b  c8:3a:35:c8:04:26  -78  2018-04-16 02:55:47  Andalus Mall\n",
       "2  e4956e438a4b  c8:3a:35:c2:4e:96  -70  2018-04-16 02:55:59  Andalus Mall\n",
       "3  e4956e438a4b  c8:3a:35:c8:04:26  -81  2018-04-16 03:02:58  Andalus Mall\n",
       "4  e4956e438a4b  c8:3a:35:c2:4e:96  -71  2018-04-16 03:04:25  Andalus Mall"
      ]
     },
     "execution_count": 3,
     "metadata": {},
     "output_type": "execute_result"
    }
   ],
   "source": [
    "flujo.head()"
   ]
  },
  {
   "cell_type": "code",
   "execution_count": 4,
   "metadata": {},
   "outputs": [],
   "source": [
    "flujo['fecha'] = pd.to_datetime(flujo['fecha'], format = '%Y-%m-%d %H:%M:%S')\n",
    "flujo['day'] = flujo['fecha'].apply(lambda x: x.day)\n",
    "flujo['hour'] = flujo['fecha'].apply(lambda x: x.hour)\n",
    "flujo['minute'] = flujo['fecha'].apply(lambda x: x.minute)"
   ]
  },
  {
   "cell_type": "markdown",
   "metadata": {},
   "source": [
    "Limpiamos nuestros datos y creamos variables para día, hora y minuto de tal forma que sea más sencillo filtrar y trabajar con los datos."
   ]
  },
  {
   "cell_type": "code",
   "execution_count": 153,
   "metadata": {},
   "outputs": [],
   "source": [
    "flujo_f = flujo.loc[(flujo['day'] == 17 ) & (flujo['hour'] == 8) & (flujo['pot'] >= -70)]"
   ]
  },
  {
   "cell_type": "code",
   "execution_count": 154,
   "metadata": {},
   "outputs": [
    {
     "data": {
      "text/plain": [
       "(32656, 8)"
      ]
     },
     "execution_count": 154,
     "metadata": {},
     "output_type": "execute_result"
    }
   ],
   "source": [
    "flujo_f.shape"
   ]
  },
  {
   "cell_type": "markdown",
   "metadata": {},
   "source": [
    "### Ejecución del Bloom filter para dispositivos unicos\n",
    "Para la ejecución del bloom se 'levantó' un API en un servidor con nuestra implementación del Bloom Filter. Para simular el stream de nuestros datos, enviamos las observaciones al API en bloques de un minuto y obtenemos el número de 'nuevos' dispositivos contados por el Filtro de Bloom al igual que el número de dispositivos que ya existían. Hacemos lo mismo con una base de datos para obtener los valores reales. Se reporta el error teórico esperado y el error real. También obtenemos el tiempo de ejecución tanto para nuestro Filtro de Bloom como de la base de datos.\n",
    " "
   ]
  },
  {
   "cell_type": "markdown",
   "metadata": {},
   "source": [
    "Con el siguiente comando reestablecemos la base y el Filtro de Bloom. Además, enviamos parámetros para la construcción del Filtro, como en número de hashes y el tamaño del vector filtro."
   ]
  },
  {
   "cell_type": "code",
   "execution_count": 17,
   "metadata": {},
   "outputs": [],
   "source": [
    "n = 81203\n",
    "k = 10"
   ]
  },
  {
   "cell_type": "code",
   "execution_count": 14,
   "metadata": {},
   "outputs": [
    {
     "data": {
      "text/plain": [
       "<Response [200]>"
      ]
     },
     "execution_count": 14,
     "metadata": {},
     "output_type": "execute_result"
    }
   ],
   "source": [
    "requests.get('http://54.157.13.52:3000/limpia_db_bloom/'+str(k)+'/'+str(n))"
   ]
  },
  {
   "cell_type": "markdown",
   "metadata": {},
   "source": [
    "A continuación 'simulamos' el stream de datos, enviando las observaciones en bloques de un minuto por un tiempo total de 10 horas."
   ]
  },
  {
   "cell_type": "code",
   "execution_count": 20,
   "metadata": {},
   "outputs": [
    {
     "name": "stdout",
     "output_type": "stream",
     "text": [
      "{'visitas_existentes': 546, 'nuevas_visitas': 19, 'tiempo_en_segundos': '0.05281543731689453'}\n",
      "{'visitas_existentes_base': 546, 'nuevas_visitas_base': 19, 'tiempo_en_segundos': '0.8397023677825928'}\n"
     ]
    },
    {
     "data": {
      "text/plain": [
       "<Figure size 432x288 with 0 Axes>"
      ]
     },
     "metadata": {},
     "output_type": "display_data"
    },
    {
     "data": {
      "image/png": "[encoded data removed]",
      "text/plain": [
       "<Figure size 1080x360 with 3 Axes>"
      ]
     },
     "metadata": {},
     "output_type": "display_data"
    },
    {
     "name": "stdout",
     "output_type": "stream",
     "text": [
      "Hora: 10 Minuto: 29\n"
     ]
    },
    {
     "ename": "KeyboardInterrupt",
     "evalue": "",
     "output_type": "error",
     "traceback": [
      "\u001b[0;31m---------------------------------------------------------------------------\u001b[0m",
      "\u001b[0;31mTypeError\u001b[0m                                 Traceback (most recent call last)",
      "\u001b[0;32m~/.pyenv/versions/3.5.2/envs/flujos/lib/python3.5/site-packages/urllib3/connectionpool.py\u001b[0m in \u001b[0;36m_make_request\u001b[0;34m(self, conn, method, url, timeout, chunked, **httplib_request_kw)\u001b[0m\n\u001b[1;32m    379\u001b[0m             \u001b[0;32mtry\u001b[0m\u001b[0;34m:\u001b[0m  \u001b[0;31m# Python 2.7, use buffering of HTTP responses\u001b[0m\u001b[0;34m\u001b[0m\u001b[0m\n\u001b[0;32m--> 380\u001b[0;31m                 \u001b[0mhttplib_response\u001b[0m \u001b[0;34m=\u001b[0m \u001b[0mconn\u001b[0m\u001b[0;34m.\u001b[0m\u001b[0mgetresponse\u001b[0m\u001b[0;34m(\u001b[0m\u001b[0mbuffering\u001b[0m\u001b[0;34m=\u001b[0m\u001b[0;32mTrue\u001b[0m\u001b[0;34m)\u001b[0m\u001b[0;34m\u001b[0m\u001b[0m\n\u001b[0m\u001b[1;32m    381\u001b[0m             \u001b[0;32mexcept\u001b[0m \u001b[0mTypeError\u001b[0m\u001b[0;34m:\u001b[0m  \u001b[0;31m# Python 2.6 and older, Python 3\u001b[0m\u001b[0;34m\u001b[0m\u001b[0m\n",
      "\u001b[0;31mTypeError\u001b[0m: getresponse() got an unexpected keyword argument 'buffering'",
      "\nDuring handling of the above exception, another exception occurred:\n",
      "\u001b[0;31mKeyboardInterrupt\u001b[0m                         Traceback (most recent call last)",
      "\u001b[0;32m<ipython-input-20-42a9ae23a47a>\u001b[0m in \u001b[0;36m<module>\u001b[0;34m()\u001b[0m\n\u001b[1;32m     29\u001b[0m \u001b[0;34m\u001b[0m\u001b[0m\n\u001b[1;32m     30\u001b[0m         \u001b[0;31m# Request al API para numero total de elementos en filtro\u001b[0m\u001b[0;34m\u001b[0m\u001b[0;34m\u001b[0m\u001b[0m\n\u001b[0;32m---> 31\u001b[0;31m         \u001b[0mr\u001b[0m \u001b[0;34m=\u001b[0m \u001b[0mrequests\u001b[0m\u001b[0;34m.\u001b[0m\u001b[0mget\u001b[0m\u001b[0;34m(\u001b[0m\u001b[0;34m'http://54.157.13.52:3000/check_bloom_db/'\u001b[0m\u001b[0;34m)\u001b[0m\u001b[0;34m\u001b[0m\u001b[0m\n\u001b[0m\u001b[1;32m     32\u001b[0m         \u001b[0mnum_unicos_total\u001b[0m \u001b[0;34m=\u001b[0m \u001b[0mr\u001b[0m\u001b[0;34m.\u001b[0m\u001b[0mjson\u001b[0m\u001b[0;34m(\u001b[0m\u001b[0;34m)\u001b[0m\u001b[0;34m[\u001b[0m\u001b[0;34m'elementos_en_db'\u001b[0m\u001b[0;34m]\u001b[0m\u001b[0;34m\u001b[0m\u001b[0m\n\u001b[1;32m     33\u001b[0m \u001b[0;34m\u001b[0m\u001b[0m\n",
      "\u001b[0;32m~/.pyenv/versions/3.5.2/envs/flujos/lib/python3.5/site-packages/requests/api.py\u001b[0m in \u001b[0;36mget\u001b[0;34m(url, params, **kwargs)\u001b[0m\n\u001b[1;32m     70\u001b[0m \u001b[0;34m\u001b[0m\u001b[0m\n\u001b[1;32m     71\u001b[0m     \u001b[0mkwargs\u001b[0m\u001b[0;34m.\u001b[0m\u001b[0msetdefault\u001b[0m\u001b[0;34m(\u001b[0m\u001b[0;34m'allow_redirects'\u001b[0m\u001b[0;34m,\u001b[0m \u001b[0;32mTrue\u001b[0m\u001b[0;34m)\u001b[0m\u001b[0;34m\u001b[0m\u001b[0m\n\u001b[0;32m---> 72\u001b[0;31m     \u001b[0;32mreturn\u001b[0m \u001b[0mrequest\u001b[0m\u001b[0;34m(\u001b[0m\u001b[0;34m'get'\u001b[0m\u001b[0;34m,\u001b[0m \u001b[0murl\u001b[0m\u001b[0;34m,\u001b[0m \u001b[0mparams\u001b[0m\u001b[0;34m=\u001b[0m\u001b[0mparams\u001b[0m\u001b[0;34m,\u001b[0m \u001b[0;34m**\u001b[0m\u001b[0mkwargs\u001b[0m\u001b[0;34m)\u001b[0m\u001b[0;34m\u001b[0m\u001b[0m\n\u001b[0m\u001b[1;32m     73\u001b[0m \u001b[0;34m\u001b[0m\u001b[0m\n\u001b[1;32m     74\u001b[0m \u001b[0;34m\u001b[0m\u001b[0m\n",
      "\u001b[0;32m~/.pyenv/versions/3.5.2/envs/flujos/lib/python3.5/site-packages/requests/api.py\u001b[0m in \u001b[0;36mrequest\u001b[0;34m(method, url, **kwargs)\u001b[0m\n\u001b[1;32m     56\u001b[0m     \u001b[0;31m# cases, and look like a memory leak in others.\u001b[0m\u001b[0;34m\u001b[0m\u001b[0;34m\u001b[0m\u001b[0m\n\u001b[1;32m     57\u001b[0m     \u001b[0;32mwith\u001b[0m \u001b[0msessions\u001b[0m\u001b[0;34m.\u001b[0m\u001b[0mSession\u001b[0m\u001b[0;34m(\u001b[0m\u001b[0;34m)\u001b[0m \u001b[0;32mas\u001b[0m \u001b[0msession\u001b[0m\u001b[0;34m:\u001b[0m\u001b[0;34m\u001b[0m\u001b[0m\n\u001b[0;32m---> 58\u001b[0;31m         \u001b[0;32mreturn\u001b[0m \u001b[0msession\u001b[0m\u001b[0;34m.\u001b[0m\u001b[0mrequest\u001b[0m\u001b[0;34m(\u001b[0m\u001b[0mmethod\u001b[0m\u001b[0;34m=\u001b[0m\u001b[0mmethod\u001b[0m\u001b[0;34m,\u001b[0m \u001b[0murl\u001b[0m\u001b[0;34m=\u001b[0m\u001b[0murl\u001b[0m\u001b[0;34m,\u001b[0m \u001b[0;34m**\u001b[0m\u001b[0mkwargs\u001b[0m\u001b[0;34m)\u001b[0m\u001b[0;34m\u001b[0m\u001b[0m\n\u001b[0m\u001b[1;32m     59\u001b[0m \u001b[0;34m\u001b[0m\u001b[0m\n\u001b[1;32m     60\u001b[0m \u001b[0;34m\u001b[0m\u001b[0m\n",
      "\u001b[0;32m~/.pyenv/versions/3.5.2/envs/flujos/lib/python3.5/site-packages/requests/sessions.py\u001b[0m in \u001b[0;36mrequest\u001b[0;34m(self, method, url, params, data, headers, cookies, files, auth, timeout, allow_redirects, proxies, hooks, stream, verify, cert, json)\u001b[0m\n\u001b[1;32m    506\u001b[0m         }\n\u001b[1;32m    507\u001b[0m         \u001b[0msend_kwargs\u001b[0m\u001b[0;34m.\u001b[0m\u001b[0mupdate\u001b[0m\u001b[0;34m(\u001b[0m\u001b[0msettings\u001b[0m\u001b[0;34m)\u001b[0m\u001b[0;34m\u001b[0m\u001b[0m\n\u001b[0;32m--> 508\u001b[0;31m         \u001b[0mresp\u001b[0m \u001b[0;34m=\u001b[0m \u001b[0mself\u001b[0m\u001b[0;34m.\u001b[0m\u001b[0msend\u001b[0m\u001b[0;34m(\u001b[0m\u001b[0mprep\u001b[0m\u001b[0;34m,\u001b[0m \u001b[0;34m**\u001b[0m\u001b[0msend_kwargs\u001b[0m\u001b[0;34m)\u001b[0m\u001b[0;34m\u001b[0m\u001b[0m\n\u001b[0m\u001b[1;32m    509\u001b[0m \u001b[0;34m\u001b[0m\u001b[0m\n\u001b[1;32m    510\u001b[0m         \u001b[0;32mreturn\u001b[0m \u001b[0mresp\u001b[0m\u001b[0;34m\u001b[0m\u001b[0m\n",
      "\u001b[0;32m~/.pyenv/versions/3.5.2/envs/flujos/lib/python3.5/site-packages/requests/sessions.py\u001b[0m in \u001b[0;36msend\u001b[0;34m(self, request, **kwargs)\u001b[0m\n\u001b[1;32m    616\u001b[0m \u001b[0;34m\u001b[0m\u001b[0m\n\u001b[1;32m    617\u001b[0m         \u001b[0;31m# Send the request\u001b[0m\u001b[0;34m\u001b[0m\u001b[0;34m\u001b[0m\u001b[0m\n\u001b[0;32m--> 618\u001b[0;31m         \u001b[0mr\u001b[0m \u001b[0;34m=\u001b[0m \u001b[0madapter\u001b[0m\u001b[0;34m.\u001b[0m\u001b[0msend\u001b[0m\u001b[0;34m(\u001b[0m\u001b[0mrequest\u001b[0m\u001b[0;34m,\u001b[0m \u001b[0;34m**\u001b[0m\u001b[0mkwargs\u001b[0m\u001b[0;34m)\u001b[0m\u001b[0;34m\u001b[0m\u001b[0m\n\u001b[0m\u001b[1;32m    619\u001b[0m \u001b[0;34m\u001b[0m\u001b[0m\n\u001b[1;32m    620\u001b[0m         \u001b[0;31m# Total elapsed time of the request (approximately)\u001b[0m\u001b[0;34m\u001b[0m\u001b[0;34m\u001b[0m\u001b[0m\n",
      "\u001b[0;32m~/.pyenv/versions/3.5.2/envs/flujos/lib/python3.5/site-packages/requests/adapters.py\u001b[0m in \u001b[0;36msend\u001b[0;34m(self, request, stream, timeout, verify, cert, proxies)\u001b[0m\n\u001b[1;32m    438\u001b[0m                     \u001b[0mdecode_content\u001b[0m\u001b[0;34m=\u001b[0m\u001b[0;32mFalse\u001b[0m\u001b[0;34m,\u001b[0m\u001b[0;34m\u001b[0m\u001b[0m\n\u001b[1;32m    439\u001b[0m                     \u001b[0mretries\u001b[0m\u001b[0;34m=\u001b[0m\u001b[0mself\u001b[0m\u001b[0;34m.\u001b[0m\u001b[0mmax_retries\u001b[0m\u001b[0;34m,\u001b[0m\u001b[0;34m\u001b[0m\u001b[0m\n\u001b[0;32m--> 440\u001b[0;31m                     \u001b[0mtimeout\u001b[0m\u001b[0;34m=\u001b[0m\u001b[0mtimeout\u001b[0m\u001b[0;34m\u001b[0m\u001b[0m\n\u001b[0m\u001b[1;32m    441\u001b[0m                 )\n\u001b[1;32m    442\u001b[0m \u001b[0;34m\u001b[0m\u001b[0m\n",
      "\u001b[0;32m~/.pyenv/versions/3.5.2/envs/flujos/lib/python3.5/site-packages/urllib3/connectionpool.py\u001b[0m in \u001b[0;36murlopen\u001b[0;34m(self, method, url, body, headers, retries, redirect, assert_same_host, timeout, pool_timeout, release_conn, chunked, body_pos, **response_kw)\u001b[0m\n\u001b[1;32m    599\u001b[0m                                                   \u001b[0mtimeout\u001b[0m\u001b[0;34m=\u001b[0m\u001b[0mtimeout_obj\u001b[0m\u001b[0;34m,\u001b[0m\u001b[0;34m\u001b[0m\u001b[0m\n\u001b[1;32m    600\u001b[0m                                                   \u001b[0mbody\u001b[0m\u001b[0;34m=\u001b[0m\u001b[0mbody\u001b[0m\u001b[0;34m,\u001b[0m \u001b[0mheaders\u001b[0m\u001b[0;34m=\u001b[0m\u001b[0mheaders\u001b[0m\u001b[0;34m,\u001b[0m\u001b[0;34m\u001b[0m\u001b[0m\n\u001b[0;32m--> 601\u001b[0;31m                                                   chunked=chunked)\n\u001b[0m\u001b[1;32m    602\u001b[0m \u001b[0;34m\u001b[0m\u001b[0m\n\u001b[1;32m    603\u001b[0m             \u001b[0;31m# If we're going to release the connection in ``finally:``, then\u001b[0m\u001b[0;34m\u001b[0m\u001b[0;34m\u001b[0m\u001b[0m\n",
      "\u001b[0;32m~/.pyenv/versions/3.5.2/envs/flujos/lib/python3.5/site-packages/urllib3/connectionpool.py\u001b[0m in \u001b[0;36m_make_request\u001b[0;34m(self, conn, method, url, timeout, chunked, **httplib_request_kw)\u001b[0m\n\u001b[1;32m    381\u001b[0m             \u001b[0;32mexcept\u001b[0m \u001b[0mTypeError\u001b[0m\u001b[0;34m:\u001b[0m  \u001b[0;31m# Python 2.6 and older, Python 3\u001b[0m\u001b[0;34m\u001b[0m\u001b[0m\n\u001b[1;32m    382\u001b[0m                 \u001b[0;32mtry\u001b[0m\u001b[0;34m:\u001b[0m\u001b[0;34m\u001b[0m\u001b[0m\n\u001b[0;32m--> 383\u001b[0;31m                     \u001b[0mhttplib_response\u001b[0m \u001b[0;34m=\u001b[0m \u001b[0mconn\u001b[0m\u001b[0;34m.\u001b[0m\u001b[0mgetresponse\u001b[0m\u001b[0;34m(\u001b[0m\u001b[0;34m)\u001b[0m\u001b[0;34m\u001b[0m\u001b[0m\n\u001b[0m\u001b[1;32m    384\u001b[0m                 \u001b[0;32mexcept\u001b[0m \u001b[0mException\u001b[0m \u001b[0;32mas\u001b[0m \u001b[0me\u001b[0m\u001b[0;34m:\u001b[0m\u001b[0;34m\u001b[0m\u001b[0m\n\u001b[1;32m    385\u001b[0m                     \u001b[0;31m# Remove the TypeError from the exception chain in Python 3;\u001b[0m\u001b[0;34m\u001b[0m\u001b[0;34m\u001b[0m\u001b[0m\n",
      "\u001b[0;32m~/.pyenv/versions/3.5.2/lib/python3.5/http/client.py\u001b[0m in \u001b[0;36mgetresponse\u001b[0;34m(self)\u001b[0m\n\u001b[1;32m   1195\u001b[0m         \u001b[0;32mtry\u001b[0m\u001b[0;34m:\u001b[0m\u001b[0;34m\u001b[0m\u001b[0m\n\u001b[1;32m   1196\u001b[0m             \u001b[0;32mtry\u001b[0m\u001b[0;34m:\u001b[0m\u001b[0;34m\u001b[0m\u001b[0m\n\u001b[0;32m-> 1197\u001b[0;31m                 \u001b[0mresponse\u001b[0m\u001b[0;34m.\u001b[0m\u001b[0mbegin\u001b[0m\u001b[0;34m(\u001b[0m\u001b[0;34m)\u001b[0m\u001b[0;34m\u001b[0m\u001b[0m\n\u001b[0m\u001b[1;32m   1198\u001b[0m             \u001b[0;32mexcept\u001b[0m \u001b[0mConnectionError\u001b[0m\u001b[0;34m:\u001b[0m\u001b[0;34m\u001b[0m\u001b[0m\n\u001b[1;32m   1199\u001b[0m                 \u001b[0mself\u001b[0m\u001b[0;34m.\u001b[0m\u001b[0mclose\u001b[0m\u001b[0;34m(\u001b[0m\u001b[0;34m)\u001b[0m\u001b[0;34m\u001b[0m\u001b[0m\n",
      "\u001b[0;32m~/.pyenv/versions/3.5.2/lib/python3.5/http/client.py\u001b[0m in \u001b[0;36mbegin\u001b[0;34m(self)\u001b[0m\n\u001b[1;32m    295\u001b[0m         \u001b[0;31m# read until we get a non-100 response\u001b[0m\u001b[0;34m\u001b[0m\u001b[0;34m\u001b[0m\u001b[0m\n\u001b[1;32m    296\u001b[0m         \u001b[0;32mwhile\u001b[0m \u001b[0;32mTrue\u001b[0m\u001b[0;34m:\u001b[0m\u001b[0;34m\u001b[0m\u001b[0m\n\u001b[0;32m--> 297\u001b[0;31m             \u001b[0mversion\u001b[0m\u001b[0;34m,\u001b[0m \u001b[0mstatus\u001b[0m\u001b[0;34m,\u001b[0m \u001b[0mreason\u001b[0m \u001b[0;34m=\u001b[0m \u001b[0mself\u001b[0m\u001b[0;34m.\u001b[0m\u001b[0m_read_status\u001b[0m\u001b[0;34m(\u001b[0m\u001b[0;34m)\u001b[0m\u001b[0;34m\u001b[0m\u001b[0m\n\u001b[0m\u001b[1;32m    298\u001b[0m             \u001b[0;32mif\u001b[0m \u001b[0mstatus\u001b[0m \u001b[0;34m!=\u001b[0m \u001b[0mCONTINUE\u001b[0m\u001b[0;34m:\u001b[0m\u001b[0;34m\u001b[0m\u001b[0m\n\u001b[1;32m    299\u001b[0m                 \u001b[0;32mbreak\u001b[0m\u001b[0;34m\u001b[0m\u001b[0m\n",
      "\u001b[0;32m~/.pyenv/versions/3.5.2/lib/python3.5/http/client.py\u001b[0m in \u001b[0;36m_read_status\u001b[0;34m(self)\u001b[0m\n\u001b[1;32m    256\u001b[0m \u001b[0;34m\u001b[0m\u001b[0m\n\u001b[1;32m    257\u001b[0m     \u001b[0;32mdef\u001b[0m \u001b[0m_read_status\u001b[0m\u001b[0;34m(\u001b[0m\u001b[0mself\u001b[0m\u001b[0;34m)\u001b[0m\u001b[0;34m:\u001b[0m\u001b[0;34m\u001b[0m\u001b[0m\n\u001b[0;32m--> 258\u001b[0;31m         \u001b[0mline\u001b[0m \u001b[0;34m=\u001b[0m \u001b[0mstr\u001b[0m\u001b[0;34m(\u001b[0m\u001b[0mself\u001b[0m\u001b[0;34m.\u001b[0m\u001b[0mfp\u001b[0m\u001b[0;34m.\u001b[0m\u001b[0mreadline\u001b[0m\u001b[0;34m(\u001b[0m\u001b[0m_MAXLINE\u001b[0m \u001b[0;34m+\u001b[0m \u001b[0;36m1\u001b[0m\u001b[0;34m)\u001b[0m\u001b[0;34m,\u001b[0m \u001b[0;34m\"iso-8859-1\"\u001b[0m\u001b[0;34m)\u001b[0m\u001b[0;34m\u001b[0m\u001b[0m\n\u001b[0m\u001b[1;32m    259\u001b[0m         \u001b[0;32mif\u001b[0m \u001b[0mlen\u001b[0m\u001b[0;34m(\u001b[0m\u001b[0mline\u001b[0m\u001b[0;34m)\u001b[0m \u001b[0;34m>\u001b[0m \u001b[0m_MAXLINE\u001b[0m\u001b[0;34m:\u001b[0m\u001b[0;34m\u001b[0m\u001b[0m\n\u001b[1;32m    260\u001b[0m             \u001b[0;32mraise\u001b[0m \u001b[0mLineTooLong\u001b[0m\u001b[0;34m(\u001b[0m\u001b[0;34m\"status line\"\u001b[0m\u001b[0;34m)\u001b[0m\u001b[0;34m\u001b[0m\u001b[0m\n",
      "\u001b[0;32m~/.pyenv/versions/3.5.2/lib/python3.5/socket.py\u001b[0m in \u001b[0;36mreadinto\u001b[0;34m(self, b)\u001b[0m\n\u001b[1;32m    573\u001b[0m         \u001b[0;32mwhile\u001b[0m \u001b[0;32mTrue\u001b[0m\u001b[0;34m:\u001b[0m\u001b[0;34m\u001b[0m\u001b[0m\n\u001b[1;32m    574\u001b[0m             \u001b[0;32mtry\u001b[0m\u001b[0;34m:\u001b[0m\u001b[0;34m\u001b[0m\u001b[0m\n\u001b[0;32m--> 575\u001b[0;31m                 \u001b[0;32mreturn\u001b[0m \u001b[0mself\u001b[0m\u001b[0;34m.\u001b[0m\u001b[0m_sock\u001b[0m\u001b[0;34m.\u001b[0m\u001b[0mrecv_into\u001b[0m\u001b[0;34m(\u001b[0m\u001b[0mb\u001b[0m\u001b[0;34m)\u001b[0m\u001b[0;34m\u001b[0m\u001b[0m\n\u001b[0m\u001b[1;32m    576\u001b[0m             \u001b[0;32mexcept\u001b[0m \u001b[0mtimeout\u001b[0m\u001b[0;34m:\u001b[0m\u001b[0;34m\u001b[0m\u001b[0m\n\u001b[1;32m    577\u001b[0m                 \u001b[0mself\u001b[0m\u001b[0;34m.\u001b[0m\u001b[0m_timeout_occurred\u001b[0m \u001b[0;34m=\u001b[0m \u001b[0;32mTrue\u001b[0m\u001b[0;34m\u001b[0m\u001b[0m\n",
      "\u001b[0;31mKeyboardInterrupt\u001b[0m: "
     ]
    }
   ],
   "source": [
    "# Hora de inicio y fin de simulacion\n",
    "hora = 8\n",
    "hora_fin = 18\n",
    "\n",
    "# Vector numpy con estadisticas\n",
    "history = np.empty((0,7),float)\n",
    "num_unicos_bloom = 0\n",
    "num_unicos_db = 0\n",
    "plt.close()\n",
    "\n",
    "while hora < hora_fin:\n",
    "    # Contador de minuto\n",
    "    contador = -1\n",
    "    # Hora actual\n",
    "    hora = hora+1\n",
    "    # Se filtra la base para obtener solo la hora considerada\n",
    "    flujo_f = flujo.loc[(flujo['day'] == 17 )& (flujo['hour'] == hora) & (flujo['pot'] >= -70)] \n",
    "    \n",
    "    # Iteramos en cada minuto de cada hora\n",
    "    for minuto in range(60):\n",
    "        # Contador con minuto considerado\n",
    "        contador += 1\n",
    "        print(\"Hora: {} Minuto: {}\".format(hora-1, minuto))\n",
    "        \n",
    "        # Se filtra la base para obtener solo el minuto considerado\n",
    "        base = flujo_f.loc[flujo_f['minute'] == minuto]\n",
    "        base = base[['mac_x']].values.tolist()\n",
    "        elementos = ['-'.join(elemento) for elemento in base]\n",
    "        \n",
    "        # Request al API para numero total de elementos en filtro\n",
    "        r = requests.get('http://54.157.13.52:3000/check_bloom_db/')\n",
    "        num_unicos_total = r.json()['elementos_en_db']\n",
    "        \n",
    "        # Tasa de error teorica\n",
    "        tasa_teorica = 100*(1-(1-1/n)**(num_unicos_total*k))**k\n",
    "        \n",
    "        # Llamamos al API y enviamos los elementos del minuto actual al Bloom Filter\n",
    "        r_bloom = requests.post('http://54.157.13.52:3000/insert_elements_bloom/', json= {'records':elementos})\n",
    "        elapsed_bloom = float(r_bloom.json()['tiempo_en_segundos'])\n",
    "        # Llamamos al API y enviamos los elementos del minuto actual a la Base de Datos\n",
    "        r_db = requests.post('http://54.157.13.52:3000/insert_elements_db/', json= {'records':elementos})\n",
    "        elapsed_db = float(r_db.json()['tiempo_en_segundos'])\n",
    "        \n",
    "        # Tasa de error real\n",
    "        if r_db.json()['nuevas_visitas_base'] > 0:\n",
    "            tasa_error = 100*(1- r_bloom.json()['nuevas_visitas']/r_db.json()['nuevas_visitas_base'])\n",
    "        else:\n",
    "            tasa_error = 0\n",
    "        \n",
    "        # Numero de elementos unicos de este flujo\n",
    "        num_unicos_bloom += r_bloom.json()['nuevas_visitas']\n",
    "        num_unicos_db += r_db.json()['nuevas_visitas_base']\n",
    "        \n",
    "        # Se guardan estadisticas en historia\n",
    "        step = [contador, elapsed_bloom, elapsed_db, tasa_error, tasa_teorica, num_unicos_bloom, num_unicos_db]\n",
    "        history = np.vstack((history, step))\n",
    "        \n",
    "        # Graficamos nuestros resultados para las diferentes métricas consideradas\n",
    "        clear_output()\n",
    "        print(r_bloom.json())\n",
    "        print(r_db.json())\n",
    "        plt.figure(1)\n",
    "        plt.figure(figsize = (15, 5))\n",
    "        plt.subplot(131)\n",
    "        plt.plot(history[:,1], label = \"Bloom\", linestyle = '-')\n",
    "        plt.plot(history[:,2], label = \"DataBase\", linestyle = '--')\n",
    "        plt.legend()\n",
    "        plt.xlabel(\"Minutos\")\n",
    "        plt.ylabel(\"Tiempo de ejecución\")\n",
    "        plt.title(\"Tiempos ejecución\")\n",
    "        plt.xlim((1,600))\n",
    "        plt.subplot(132)\n",
    "        plt.plot(history[:,3], linestyle = '-', label = \"Real\")\n",
    "        plt.plot(history[:,4], linestyle = '--', label = \"Teorica\")\n",
    "        plt.ylim((0, 105))\n",
    "        plt.legend()\n",
    "        plt.ylabel(\"Tasa error\")\n",
    "        plt.xlabel(\"Minutos\")\n",
    "        plt.title(\"Tasa de error\")\n",
    "        plt.xlim((1,600))\n",
    "        plt.subplot(133)\n",
    "        plt.plot(history[:,5], label = \"Bloom\", linestyle = '-')\n",
    "        plt.plot(history[:,6], label = \"DataBase\", linestyle = '--')\n",
    "        plt.legend()\n",
    "        plt.ylabel(\"Número de únicos\")\n",
    "        plt.xlabel(\"Minutos\")\n",
    "        plt.title(\"Número de únicos\")\n",
    "        plt.xlim((1,600))\n",
    "        plt.show()"
   ]
  },
  {
   "cell_type": "markdown",
   "metadata": {},
   "source": [
    "El Bloom Filter nos permite ver el número de individuos únicos en cierto periodo de tiempo al igual que detectar, en un periodo de un minuto de tiempo, cuantos de los dispositivos son nuevos y cuantos ya habían aparecido en alguno de los 3 centros comerciales."
   ]
  },
  {
   "cell_type": "markdown",
   "metadata": {},
   "source": [
    "**Ejecución Buena: n=576,743, k = 15**  \n",
    "Computadora 1 - Mall 1\n",
    "![](bloom_bueno_n576743_k15.png)\n",
    "Computadora 2 - Mall 2 y 3\n",
    "![](Bloom_bueno_2.png)"
   ]
  },
  {
   "cell_type": "markdown",
   "metadata": {},
   "source": [
    "**Ejecución Mala: n=81,203, k=10**  \n",
    "Computadora 1 - Mall 1\n",
    "![](bloom_unicos_malo_n81203_k10.png)\n",
    "Computadora 2 - Mall 2 y 3\n",
    "![](Bloom_unicos_malo_2.png)"
   ]
  },
  {
   "cell_type": "markdown",
   "metadata": {},
   "source": [
    "### Ejecución del Bloom filter para filtrar empleados\n",
    "Para esta implementación del Bloom filter primero añadimos un subconjunto de MAC address distintas al filtro, que simulan los dispositivos de los empleados de las tiendas del centro comercial. Obtenemos el número de dispositivos filtrados y no filtrados por el Filtro de Bloom. Hacemos lo mismo con una base de datos para obtener los valores reales. Se reporta el error teórico esperado y el error real. También obtenemos el tiempo de ejecución tanto para nuestro Filtro de Bloom como de la base de datos."
   ]
  },
  {
   "cell_type": "markdown",
   "metadata": {},
   "source": [
    "Primero se crea una base de direcciones que representan a los empleados del centro comercial. Luego se agregan los registros al bloom filter."
   ]
  },
  {
   "cell_type": "code",
   "execution_count": 5,
   "metadata": {},
   "outputs": [],
   "source": [
    "flujo_filtrado = flujo.sample(n=len(flujo), replace=False).loc[(flujo['pot'] >= -70)] #(~flujo['mac_x'].str.contains(\"c8:3a:35\")) &\n",
    "#flujo_filtrado = flujo.loc[(flujo['day'] == 17 ) & (flujo['hour'].isin([8,9])) & (flujo['pot'] >= -70) & ~flujo['mac_x'].str.contains(\"c8:3a:35\")]\n",
    "macs = list(set(flujo_filtrado['mac_x']))\n",
    "empleados = random.sample(flujo_filtrado['mac_x'].tolist(), round(.1*len(flujo_filtrado)))\n",
    "empleados = list(set(empleados))"
   ]
  },
  {
   "cell_type": "code",
   "execution_count": 15,
   "metadata": {},
   "outputs": [
    {
     "data": {
      "text/plain": [
       "0.22772405270645035"
      ]
     },
     "execution_count": 15,
     "metadata": {},
     "output_type": "execute_result"
    }
   ],
   "source": [
    "len(empleados)/len(macs)"
   ]
  },
  {
   "cell_type": "code",
   "execution_count": null,
   "metadata": {},
   "outputs": [],
   "source": [
    "flujo_filtrado['mac_x'].value_counts()/len(flujo_filtrado)"
   ]
  },
  {
   "cell_type": "code",
   "execution_count": null,
   "metadata": {},
   "outputs": [],
   "source": [
    "flujo_f = flujo.loc[(flujo['day'] == 17 ) & (flujo['hour'].isin([8,9])) & (flujo['pot'] >= -70)]"
   ]
  },
  {
   "cell_type": "code",
   "execution_count": null,
   "metadata": {},
   "outputs": [],
   "source": [
    "flujo_filtrado.head()"
   ]
  },
  {
   "cell_type": "code",
   "execution_count": null,
   "metadata": {},
   "outputs": [],
   "source": [
    "flujo_f['mac_x'].isin(empleados).mean()"
   ]
  },
  {
   "cell_type": "code",
   "execution_count": null,
   "metadata": {},
   "outputs": [],
   "source": [
    "len(macs)"
   ]
  },
  {
   "cell_type": "code",
   "execution_count": 20,
   "metadata": {},
   "outputs": [],
   "source": [
    "n = 271393\n",
    "k = 8"
   ]
  },
  {
   "cell_type": "code",
   "execution_count": 21,
   "metadata": {},
   "outputs": [
    {
     "data": {
      "text/plain": [
       "<Response [200]>"
      ]
     },
     "execution_count": 21,
     "metadata": {},
     "output_type": "execute_result"
    }
   ],
   "source": [
    "requests.get('http://54.157.13.52:3000/limpia_db_bloom/'+str(k)+'/'+str(n))"
   ]
  },
  {
   "cell_type": "code",
   "execution_count": 22,
   "metadata": {},
   "outputs": [],
   "source": [
    "r_bloom = requests.post('http://54.157.13.52:3000/insert_elements_bloom/', json= {'records':empleados})\n",
    "r_db = requests.post('http://54.157.13.52:3000/insert_elements_db/', json= {'records':empleados})"
   ]
  },
  {
   "cell_type": "code",
   "execution_count": 23,
   "metadata": {},
   "outputs": [
    {
     "name": "stdout",
     "output_type": "stream",
     "text": [
      "{'elementos_insertados_en_bloom': 46553, 'elementos_en_db': 47544}\n"
     ]
    }
   ],
   "source": [
    "# Request al API para numero total de elementos en filtro\n",
    "r = requests.get('http://54.157.13.52:3000/check_bloom_db/')\n",
    "print(r.json())\n",
    "num_unicos_total = len(empleados)"
   ]
  },
  {
   "cell_type": "code",
   "execution_count": 24,
   "metadata": {
    "scrolled": true
   },
   "outputs": [
    {
     "name": "stdout",
     "output_type": "stream",
     "text": [
      "{'no_estan_filtro': 41, 'tiempo_en_segundos': '0.01253199577331543', 'ya_en_filtro': 509}\n",
      "{'ya_en_la_db': 509, 'no_estan_db': 41, 'tiempo_en_segundos': '0.7961337566375732'}\n"
     ]
    },
    {
     "data": {
      "text/plain": [
       "<Figure size 432x288 with 0 Axes>"
      ]
     },
     "metadata": {},
     "output_type": "display_data"
    },
    {
     "data": {
      "image/png": "[encoded data removed]",
      "text/plain": [
       "<Figure size 1080x360 with 3 Axes>"
      ]
     },
     "metadata": {},
     "output_type": "display_data"
    }
   ],
   "source": [
    "# Hora de inicio y fin de simulacion\n",
    "hora = 8\n",
    "hora_fin = 10\n",
    "\n",
    "# Vector numpy con estadisticas\n",
    "history = np.empty((0,7),float)\n",
    "num_no_filtrados_bloom = 0\n",
    "num_no_filtrados_db = 0\n",
    "plt.close()\n",
    "\n",
    "while hora < hora_fin:\n",
    "   # Contador de minuto\n",
    "   contador = -1\n",
    "   # Hora actual\n",
    "   hora = hora+1\n",
    "   # Se filtra la base para obtener solo la hora considerada\n",
    "   flujo_f = flujo.loc[(flujo['day'] == 17 ) & (flujo['hour'] == hora) & (flujo['pot'] >= -70)]\n",
    "   \n",
    "   # Iteramos en cada minuto de cada hora\n",
    "   for minuto in range(60):\n",
    "       # Contador con minuto considerado\n",
    "       contador += 1\n",
    "       print(\"Hora: {} Minuto: {}\".format(hora-1, minuto))\n",
    "       \n",
    "       # Se filtra la base para obtener solo el minuto considerado\n",
    "       base = flujo_f.loc[flujo_f['minute'] == minuto]\n",
    "       elementos = base[['mac_x']].values.tolist()\n",
    "       elementos = ['-'.join(elemento) for elemento in elementos]\n",
    "       # Tasa de error teorica\n",
    "       tasa_teorica = 100*(1-(1-1/n)**(num_unicos_total*k))**k\n",
    "       \n",
    "       # Llamamos al API y enviamos los elementos del minuto actual al Bloom Filter\n",
    "       r_bloom = requests.post('http://54.157.13.52:3000/is_in_filter/', json= {'records':elementos})\n",
    "       elapsed_bloom = float(r_bloom.json()['tiempo_en_segundos'])\n",
    "       # Llamamos al API y enviamos los elementos del minuto actual a la Base de Datos\n",
    "       r_db = requests.post('http://54.157.13.52:3000/is_in_db/', json= {'records':elementos})\n",
    "       elapsed_db = float(r_db.json()['tiempo_en_segundos'])\n",
    "       \n",
    "       # Tasa de error real\n",
    "       if r_db.json()['no_estan_db'] > 0:\n",
    "           tasa_error = 100*(1- r_bloom.json()['no_estan_filtro']/r_db.json()['no_estan_db'])\n",
    "       else:\n",
    "           tasa_error = 0\n",
    "       \n",
    "       # Numero de elementos unicos de este flujo\n",
    "       num_no_filtrados_bloom += r_bloom.json()['no_estan_filtro']\n",
    "       num_no_filtrados_db += r_db.json()['no_estan_db']\n",
    "       \n",
    "       # Se guardan estadisticas en historia\n",
    "       step = [contador, elapsed_bloom, elapsed_db, tasa_error, tasa_teorica, num_no_filtrados_bloom, num_no_filtrados_db]\n",
    "       history = np.vstack((history, step))\n",
    "       \n",
    "       # Graficamos nuestros resultados para las diferentes métricas consideradas\n",
    "       clear_output()\n",
    "       print(r_bloom.json())\n",
    "       print(r_db.json())\n",
    "       plt.figure(1)\n",
    "       plt.figure(figsize = (15, 5))\n",
    "       plt.subplot(131)\n",
    "       plt.plot(history[:,1], label = \"Bloom\", linestyle = '-')\n",
    "       plt.plot(history[:,2], label = \"DataBase\", linestyle = '--')\n",
    "       plt.legend()\n",
    "       plt.xlabel(\"Minutos\")\n",
    "       plt.ylabel(\"Tiempo de ejecución\")\n",
    "       plt.title(\"Tiempos ejecución\")\n",
    "       plt.xlim((1,120))\n",
    "       plt.subplot(132)\n",
    "       plt.plot(history[:,3], linestyle = '-', label = \"Real\")\n",
    "       plt.plot(history[:,4], linestyle = '--', label = \"Teorica\")\n",
    "       plt.ylim((0, 105))\n",
    "       plt.legend()\n",
    "       plt.ylabel(\"Tasa error\")\n",
    "       plt.xlabel(\"Minutos\")\n",
    "       plt.title(\"Tasa de error\")\n",
    "       plt.xlim((1,120))\n",
    "       plt.subplot(133)\n",
    "       plt.plot(history[:,5], label = \"Bloom\", linestyle = '-')\n",
    "       plt.plot(history[:,6], label = \"DataBase\", linestyle = '--')\n",
    "       plt.legend()\n",
    "       plt.ylabel(\"Número de no filtrados\")\n",
    "       plt.xlabel(\"Minutos\")\n",
    "       plt.title(\"Número de no filtrados\")\n",
    "       plt.xlim((1,120))\n",
    "       plt.show()"
   ]
  },
  {
   "cell_type": "markdown",
   "metadata": {},
   "source": [
    "**Ejecución Mala: 271,393 y 8 funciones hash**\n",
    "![](emp_k8_n271393.png)\n",
    "**Ejecución Buena: 271,393 y 4 funciones hash**\n",
    "![](emp_optimo_k4_n271393.png)"
   ]
  },
  {
   "cell_type": "markdown",
   "metadata": {},
   "source": [
    "### Muestro por hash\n",
    "Para obtener un estimado del tiempo promedio de permanencia de un dispositivo en el centro comercial implementamos muestro por hashes. Con este, a través del ‘hasheo’ de la MAC address y asignación a cubetas podemos obtener todas las observaciones de una muestra de usuarios de nuestros datos. A través de este podremos obtener una estimación del tiempo promedio de permanencia de los individuos en los centros comerciales, al obtener la diferencia entre el timestamp máximo y el mínimo para cada individuo dentro de una muestra y extrapolar este valor para la población.\n"
   ]
  },
  {
   "cell_type": "code",
   "execution_count": 147,
   "metadata": {},
   "outputs": [],
   "source": [
    "num_cubetas = 40\n",
    "cubetas_a_tomar = 8\n",
    "flujo_g = flujo\n",
    "flujo_g['ts'] = pd.to_datetime(flujo_g.fecha).astype(int) / 1000000000"
   ]
  },
  {
   "cell_type": "code",
   "execution_count": 148,
   "metadata": {},
   "outputs": [
    {
     "name": "stdout",
     "output_type": "stream",
     "text": [
      "Promedio real: 74.6527088804591, Muestreo Hash: 76.0, Muestreo Uniforme: 16.64517357550901\n",
      "Promedio real: 59.33128572913418, Muestreo Hash: 59.31666666666667, Muestreo Uniforme: 13.487290653700702\n",
      "Promedio real: 70.95296786853078, Muestreo Hash: 73.51666666666667, Muestreo Uniforme: 16.72918567482854\n",
      "Promedio real: 71.73686075781664, Muestreo Hash: 69.71666666666667, Muestreo Uniforme: 17.09579276887272\n"
     ]
    }
   ],
   "source": [
    "for i in [12,13,14,15]:\n",
    "    flujo_f = flujo_g.loc[(flujo_g['day'] == i )& (flujo['pot'] >= -70)]\n",
    "    tabla =flujo_f[['mac_x','ts']]\n",
    "    \n",
    "    # Promedio Hash\n",
    "    requests.get('http://54.157.13.52:3000/clean_bucket/'+str(num_cubetas)+'/'+str(cubetas_a_tomar)+'/')\n",
    "    elementos = tabla.values.tolist()\n",
    "    requests.post('http://54.157.13.52:3000/insert_elements_db_window/', json= {'records':elementos})\n",
    "    r_window = requests.get('http://54.157.13.52:3000/check_window_sample/').json()['canasta_duracion_promedio']/60\n",
    "    \n",
    "    # Promedio real\n",
    "    maxes = tabla.groupby('mac_x')['ts'].max().reset_index()\n",
    "    mins = tabla.groupby('mac_x')['ts'].min().reset_index()\n",
    "    maxes.columns = ['mac_max', 'last']\n",
    "    mins.columns = ['mac_min', 'first']\n",
    "    times = maxes.merge(mins, how = 'inner', left_on = 'mac_max', right_on = 'mac_min')\n",
    "    times['duracion'] = times['last'] - times['first']\n",
    "    times = times.loc[times['duracion']>0]\n",
    "    real_mean = times['duracion'].mean()/60\n",
    "    \n",
    "    # Promedio uniforme\n",
    "    tabla2 =flujo_f[['mac_x','ts']].sample(frac = cubetas_a_tomar/num_cubetas, replace = False)\n",
    "    maxes2 = tabla2.groupby('mac_x')['ts'].max().reset_index()\n",
    "    mins2 = tabla2.groupby('mac_x')['ts'].min().reset_index()\n",
    "    maxes2.columns = ['mac_max', 'last']\n",
    "    mins2.columns = ['mac_min', 'first']\n",
    "    times2 = maxes2.merge(mins2, how = 'inner', left_on = 'mac_max', right_on = 'mac_min')\n",
    "    times2['duracion'] = times2['last'] - times2['first']\n",
    "    #times2 = times2.loc[times2['duracion']>0]\n",
    "    unif_mean = times2['duracion'].mean()/60\n",
    "    print(\"Promedio real: {}, Muestreo Hash: {}, Muestreo Uniforme: {}\".format(real_mean, r_window, unif_mean))"
   ]
  },
  {
   "cell_type": "markdown",
   "metadata": {},
   "source": [
    "**10 cubetas, tomar 2**\n",
    "![](hash_buckets_cubetas10_tomar2.png)"
   ]
  },
  {
   "cell_type": "markdown",
   "metadata": {},
   "source": [
    "### Hyperloglog\n",
    "Para obtener el número de individuos únicos en un día, se implementó el algoritmo de Hyperloglog. Para crear las cubetas elegimos utilizar los primeros 8 bits del vector, utilizando el restante para contar la longitud de la cola de ceros. Evaluamos el desempeño de este algoritmo con diferentes números de cubetas."
   ]
  },
  {
   "cell_type": "code",
   "execution_count": 150,
   "metadata": {},
   "outputs": [
    {
     "name": "stdout",
     "output_type": "stream",
     "text": [
      "Únicos real: 32415, Únicos Hyperloglog: 23229.991384615387\n",
      "Únicos real: 28082, Únicos Hyperloglog: 17158.516363636365\n",
      "Únicos real: 26664, Únicos Hyperloglog: 94371.84\n",
      "Únicos real: 23830, Únicos Hyperloglog: 11439.010909090908\n"
     ]
    }
   ],
   "source": [
    "for i in [13,14,15,16]:\n",
    "    flujo_f = flujo.loc[(flujo['day'] == i )& (flujo['pot'] >= -70)].mac_x.values.tolist()\n",
    "    \n",
    "    # Unicos real\n",
    "    real_unique = len(set(flujo_f))\n",
    "    \n",
    "    # Promedio real\n",
    "    r_hll = requests.post('http://54.157.13.52:3000/check_unique/', json= {'records':flujo_f, 'bit_long':3})\n",
    "    hll_unique = r_hll.json()['unicas_hloglog']\n",
    "\n",
    "    print(\"Únicos real: {}, Únicos Hyperloglog: {}\".format(real_unique, hll_unique))"
   ]
  },
  {
   "cell_type": "markdown",
   "metadata": {},
   "source": [
    "**HLL con 8 bits**\n",
    "![](hll.png)\n",
    "**HLL con 3 bits**\n",
    "![](hll_3.png)"
   ]
  }
 ],
 "metadata": {
  "kernelspec": {
   "display_name": "Python 3",
   "language": "python",
   "name": "python3"
  },
  "language_info": {
   "codemirror_mode": {
    "name": "ipython",
    "version": 3
   },
   "file_extension": ".py",
   "mimetype": "text/x-python",
   "name": "python",
   "nbconvert_exporter": "python",
   "pygments_lexer": "ipython3",
   "version": "3.5.2"
  }
 },
 "nbformat": 4,
 "nbformat_minor": 2
}
